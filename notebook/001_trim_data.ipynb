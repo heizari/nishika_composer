{
 "cells": [
  {
   "cell_type": "code",
   "execution_count": 1,
   "metadata": {},
   "outputs": [],
   "source": [
    "import os\n",
    "import pandas as pd\n",
    "import numpy as np\n",
    "from tqdm import tqdm\n",
    "import glob\n",
    "import librosa\n",
    "from pydub import AudioSegment\n",
    "import pdb"
   ]
  },
  {
   "cell_type": "code",
   "execution_count": 2,
   "metadata": {},
   "outputs": [],
   "source": [
    "div_length = 30000 #曲を区切る長さ msec (30秒)\n",
    "div_length_sec = div_length / 1000\n",
    "\n",
    "### 区切ったwavを格納するディレクトリ\n",
    "save_dir_train = \"../data/trim_data/\"\n",
    "if not os.path.exists(save_dir_train):\n",
    "    os.mkdir( save_dir_train )\n",
    "\n",
    "train_mp3_path = glob.glob('../data/train/*.mp3')\n",
    "check = glob.glob(save_dir_train)\n",
    "   "
   ]
  },
  {
   "cell_type": "code",
   "execution_count": 30,
   "metadata": {},
   "outputs": [],
   "source": [
    "for mp3_path in train_mp3_path:\n",
    "    sound = AudioSegment.from_file(mp3_path, format=\"mp3\")    # mp3ファイルの読み込み\n",
    "    div_num = int(sound.duration_seconds / div_length_sec ) + 1 # mp3の長さを60secで分割したときの数 後端となる余りも含む\n",
    "\n",
    "    ### 出力するためのファイル名を取得する\n",
    "    mp3_name = mp3_path.split(\"/\")[-1]\n",
    "    mp3_name = mp3_name.split(\".\")[0]\n",
    "\n",
    "    # secの分割\n",
    "    for i in range(div_num):     \n",
    "\n",
    "        output_path = save_dir_train + '/' + mp3_name + \"_\" + str(i) + \".wav\"\n",
    "\n",
    "        ### 区切った音源の最後が30sec未満のときの例外処理\n",
    "        if i == div_num-1:\n",
    "            sound_div = sound[ i*div_length : ] \n",
    "            sound_div.export(output_path, format=\"wav\")\n",
    "\n",
    "        ### 30secを順にwavに変換していく\n",
    "        else:\n",
    "            ### スタートは30secの倍数、エンドはスタート+30sec\n",
    "            sound_div = sound[ i*div_length : i*div_length + div_length ]\n",
    "            sound_div.export(output_path, format=\"wav\")"
   ]
  },
  {
   "cell_type": "code",
   "execution_count": 2,
   "metadata": {},
   "outputs": [],
   "source": [
    "div_length = 30000 #曲を区切る長さ msec (30秒)\n",
    "div_length_sec = div_length / 1000\n",
    "\n",
    "### 区切ったwavを格納するディレクトリ\n",
    "save_dir_train = \"../data/test_trim/\"\n",
    "if not os.path.exists(save_dir_train):\n",
    "    os.mkdir( save_dir_train )\n",
    "\n",
    "train_mp3_path = glob.glob('../data/test/*.mp3')\n",
    "check = glob.glob(save_dir_train)\n",
    "   "
   ]
  },
  {
   "cell_type": "code",
   "execution_count": 3,
   "metadata": {},
   "outputs": [],
   "source": [
    "for mp3_path in train_mp3_path:\n",
    "    sound = AudioSegment.from_file(mp3_path, format=\"mp3\")    # mp3ファイルの読み込み\n",
    "    div_num = int(sound.duration_seconds / div_length_sec ) + 1 # mp3の長さを60secで分割したときの数 後端となる余りも含む\n",
    "\n",
    "    ### 出力するためのファイル名を取得する\n",
    "    mp3_name = mp3_path.split(\"/\")[-1]\n",
    "    mp3_name = mp3_name.split(\".\")[0]\n",
    "\n",
    "    # secの分割\n",
    "    for i in range(div_num):     \n",
    "\n",
    "        output_path = save_dir_train + '/' + mp3_name + \"_\" + str(i) + \".wav\"\n",
    "\n",
    "        ### 区切った音源の最後が30sec未満のときの例外処理\n",
    "        if i == div_num-1:\n",
    "            sound_div = sound[ i*div_length : ] \n",
    "            sound_div.export(output_path, format=\"wav\")\n",
    "\n",
    "        ### 30secを順にwavに変換していく\n",
    "        else:\n",
    "            ### スタートは30secの倍数、エンドはスタート+30sec\n",
    "            sound_div = sound[ i*div_length : i*div_length + div_length ]\n",
    "            sound_div.export(output_path, format=\"wav\")"
   ]
  },
  {
   "cell_type": "code",
   "execution_count": null,
   "metadata": {},
   "outputs": [],
   "source": []
  }
 ],
 "metadata": {
  "kernelspec": {
   "display_name": "acoustic",
   "language": "python",
   "name": "acoustic"
  },
  "language_info": {
   "codemirror_mode": {
    "name": "ipython",
    "version": 3
   },
   "file_extension": ".py",
   "mimetype": "text/x-python",
   "name": "python",
   "nbconvert_exporter": "python",
   "pygments_lexer": "ipython3",
   "version": "3.6.9"
  }
 },
 "nbformat": 4,
 "nbformat_minor": 4
}
