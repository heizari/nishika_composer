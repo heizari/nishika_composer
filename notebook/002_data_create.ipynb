{
 "cells": [
  {
   "cell_type": "code",
   "execution_count": 22,
   "metadata": {},
   "outputs": [],
   "source": [
    "import os\n",
    "import pandas as pd\n",
    "import numpy as np\n",
    "from tqdm import tqdm\n",
    "import matplotlib.pyplot as plt\n",
    "import glob\n",
    "from pydub import AudioSegment\n",
    "import pdb\n",
    "import librosa\n",
    "import librosa.display"
   ]
  },
  {
   "cell_type": "code",
   "execution_count": 43,
   "metadata": {},
   "outputs": [],
   "source": [
    "train_df = pd.read_csv(\"../data/train.csv\")\n",
    "test_df = pd.read_csv(\"../data/test.csv\")"
   ]
  },
  {
   "cell_type": "code",
   "execution_count": 18,
   "metadata": {},
   "outputs": [],
   "source": [
    "def get_mel_forDS(save_dir, source_dir, sr, n_fft, hop_length):\n",
    "\n",
    "    data, sr = librosa.load(source_dir, sr=sr)\n",
    "    S_F = librosa.stft(data, n_fft=n_fft, hop_length=hop_length)\n",
    "    \n",
    "    # 振幅を取得\n",
    "    amp = np.abs(S_F)\n",
    "\n",
    "    # パワーに変換（振幅を二乗する）\n",
    "    P = amp ** 2\n",
    "\n",
    "    # スペクトログラムから、メル周波数のスペクトログラムを求める\n",
    "    mel_S = librosa.feature.melspectrogram(S=P, sr=sr)\n",
    "\n",
    "    log_after = librosa.power_to_db(mel_S)\n",
    "\n",
    "    # Pytorch Conv2Dのinputのshapeは (データ数, Channel, Height, Width)でありメルスペクトログラムもこれに合わせる\n",
    "    mel_dim_ex = log_after[np.newaxis, :, : ]  \n",
    "\n",
    "    np.save(save_dir + source_dir.split(\"/\")[-1].split(\".\")[0] , mel_dim_ex)"
   ]
  },
  {
   "cell_type": "code",
   "execution_count": 19,
   "metadata": {},
   "outputs": [
    {
     "name": "stderr",
     "output_type": "stream",
     "text": [
      "100%|██████████| 7178/7178 [2:01:05<00:00,  1.01s/it]  \n"
     ]
    }
   ],
   "source": [
    "npy_files = sorted( glob.glob('../data/mel_numpy/*.npy') )\n",
    "wav_files = sorted( glob.glob('../data/train_trim/*.wav') )\n",
    "\n",
    "### npyが作られていないときにのみ実行する。\n",
    "if len(npy_files) != len(wav_files):\n",
    "\n",
    "    save_dir = \"../data/mel_numpy/\"\n",
    "    if not os.path.isdir(save_dir):\n",
    "            os.makedirs(save_dir)\n",
    "\n",
    "    target_dir = \"../data/music_wav/\"\n",
    "    SR = 4410\n",
    "    N_FFT = 1024\n",
    "    HOP_LENGTH = 1024\n",
    "\n",
    "    for i in tqdm(range( len(wav_files)) ):\n",
    "        wav_file = wav_files[i]\n",
    "        get_mel_forDS(save_dir, wav_file, SR, N_FFT, HOP_LENGTH)"
   ]
  },
  {
   "cell_type": "code",
   "execution_count": 29,
   "metadata": {},
   "outputs": [],
   "source": [
    "def trans_quare_npy(save_dir, source_dir, sr, n_fft, hop_length):\n",
    "\n",
    "\n",
    "    path_n = source_dir.split(\"/\")[-1].split(\".\")[0] + \".npy\"\n",
    "    \n",
    "    if not os.path.isdir(save_dir):\n",
    "        os.makedirs(save_dir)\n",
    "        \n",
    "    mel_numpy = np.load(source_dir)\n",
    "    \n",
    "    mel_adj = np.zeros( (1,128,128) )\n",
    "    \n",
    "    if mel_numpy.shape[-1] < 128:\n",
    "        start = int( (128 - mel_numpy.shape[-1]) / 2 )\n",
    "        end = start + mel_numpy.shape[-1]\n",
    "        mel_adj[:,:,start:end] = mel_numpy\n",
    "\n",
    "    elif mel_numpy.shape[-1] > 128:    \n",
    "        mel_adj = mel_numpy[:,:,1:129]\n",
    "        \n",
    "    else:\n",
    "        mel_adj = mel_numpy\n",
    "\n",
    "    np.save(save_dir + path_n.split(\"/\")[-1] , mel_adj)"
   ]
  },
  {
   "cell_type": "code",
   "execution_count": 31,
   "metadata": {},
   "outputs": [
    {
     "name": "stderr",
     "output_type": "stream",
     "text": [
      "100%|██████████| 7178/7178 [00:09<00:00, 763.99it/s] \n"
     ]
    }
   ],
   "source": [
    "SR = 4410\n",
    "N_FFT = 1024\n",
    "HOP_LENGTH = 1024\n",
    "npy_files = sorted( glob.glob('../data/train_mel/*.npy') )\n",
    "npy_files_preprocessed = sorted( glob.glob('../data/train_mel_sqaure/*.npy') )\n",
    "save_dir = '../data/train_mel_sqaure/'\n",
    "\n",
    "### 正方化されていないnpyが作られていないときにのみ実行する。\n",
    "if len(npy_files_preprocessed) != len(npy_files):\n",
    "\n",
    "    for i in tqdm( range(len(npy_files)) ):\n",
    "        trans_quare_npy(save_dir, npy_files[i], SR, N_FFT, HOP_LENGTH)\n",
    "\n",
    "\n",
    "else:\n",
    "    None"
   ]
  },
  {
   "cell_type": "code",
   "execution_count": 44,
   "metadata": {},
   "outputs": [],
   "source": [
    "train_mel_path = sorted( glob.glob('../data/train_mel_square/*.npy') )\n",
    "\n",
    "music_file_ls = []\n",
    "artist_id_ls = []\n",
    "\n",
    "for txt in train_mel_path:\n",
    "\n",
    "    music_file = txt.split(\"/\")[-1].split(\"_\")[0]\n",
    "    music_file_ls.append( str(music_file) )\n",
    "    filename = music_file+\".mp3\"\n",
    "\n",
    "    artist_id_ls.append(train_df[ train_df[\"filename\"] == filename][\"artist_id\"].values[-1])"
   ]
  },
  {
   "cell_type": "code",
   "execution_count": 45,
   "metadata": {},
   "outputs": [],
   "source": [
    "df_train_npy_path = pd.DataFrame({\n",
    "    \"filename\": music_file_ls,\n",
    "    \"artist_id\": artist_id_ls,\n",
    "    \"npy_path\": train_mel_path,\n",
    "})\n",
    "df_train_npy_path.to_csv(\"../output/train_npy.csv\", index=False)"
   ]
  },
  {
   "cell_type": "code",
   "execution_count": 47,
   "metadata": {},
   "outputs": [
    {
     "name": "stderr",
     "output_type": "stream",
     "text": [
      "100%|██████████| 1382/1382 [22:48<00:00,  1.01it/s]\n"
     ]
    }
   ],
   "source": [
    "npy_files = sorted( glob.glob('../data/test_mel/*.npy') )\n",
    "wav_files = sorted( glob.glob('../data/test_trim/*.wav') )\n",
    "### npyが作られていないときにのみ実行する。\n",
    "\n",
    "if len(npy_files) != len(wav_files):\n",
    "\n",
    "    save_dir = \"../data/test_mel/\"\n",
    "    if not os.path.isdir(save_dir):\n",
    "            os.makedirs(save_dir)\n",
    "\n",
    "    target_dir = \"../data/test_trim/\"\n",
    "    SR = 4410\n",
    "    N_FFT = 1024\n",
    "    HOP_LENGTH = 1024\n",
    "\n",
    "    for i in tqdm(range( len(wav_files)) ):\n",
    "        wav_file = wav_files[i]\n",
    "        get_mel_forDS(save_dir, wav_file, SR, N_FFT, HOP_LENGTH)"
   ]
  },
  {
   "cell_type": "code",
   "execution_count": 48,
   "metadata": {},
   "outputs": [
    {
     "name": "stderr",
     "output_type": "stream",
     "text": [
      "100%|██████████| 1382/1382 [00:01<00:00, 1141.05it/s]\n"
     ]
    }
   ],
   "source": [
    "SR = 4410\n",
    "N_FFT = 1024\n",
    "HOP_LENGTH = 1024\n",
    "\n",
    "npy_files = sorted( glob.glob('../data/test_mel/*.npy'))\n",
    "npy_files_preprocessed = sorted( glob.glob('../data/test_mel_sqaure/*.npy') )\n",
    "save_dir = '../data/test_mel_sqaure/'\n",
    "\n",
    "### 正方化されていないnpyが作られていないときにのみ実行する。\n",
    "if len(npy_files_preprocessed) != len(npy_files):\n",
    "\n",
    "    for i in tqdm( range(len(npy_files)) ):\n",
    "        trans_quare_npy(save_dir, npy_files[i], SR, N_FFT, HOP_LENGTH)\n",
    "\n",
    "else:\n",
    "    None"
   ]
  },
  {
   "cell_type": "code",
   "execution_count": 49,
   "metadata": {},
   "outputs": [],
   "source": [
    "npy_files_preprocessed = sorted(glob.glob('../data/test_mel_sqaure/*.npy') )\n",
    "\n",
    "music_file_ls = []\n",
    "\n",
    "for txt in npy_files_preprocessed:\n",
    "\n",
    "    music_file = txt.split(\"/\")[-1].split(\"_\")[0]\n",
    "    music_file_ls.append( str(music_file) )\n"
   ]
  },
  {
   "cell_type": "code",
   "execution_count": 50,
   "metadata": {},
   "outputs": [],
   "source": [
    "df_test_wave_path = pd.DataFrame({\n",
    "    \"filename\": music_file_ls,\n",
    "    \"npy_path\": npy_files_preprocessed\n",
    "})\n",
    "df_test_wave_path.to_csv(\"../output/test_npy.csv\", index=False)"
   ]
  }
 ],
 "metadata": {
  "kernelspec": {
   "display_name": "acoustic",
   "language": "python",
   "name": "acoustic"
  },
  "language_info": {
   "codemirror_mode": {
    "name": "ipython",
    "version": 3
   },
   "file_extension": ".py",
   "mimetype": "text/x-python",
   "name": "python",
   "nbconvert_exporter": "python",
   "pygments_lexer": "ipython3",
   "version": "3.6.9"
  }
 },
 "nbformat": 4,
 "nbformat_minor": 4
}
